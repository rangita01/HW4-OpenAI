{
 "cells": [
  {
   "cell_type": "markdown",
   "metadata": {},
   "source": [
    "# Implement an explicit policy for the cartpole environment without using any learning algorithm #"
   ]
  },
  {
   "cell_type": "code",
   "execution_count": 1,
   "metadata": {},
   "outputs": [],
   "source": [
    "import gym\n",
    "import numpy as np\n",
    "\n",
    "%matplotlib inline\n",
    "import matplotlib.pyplot as plt"
   ]
  },
  {
   "cell_type": "code",
   "execution_count": 2,
   "metadata": {},
   "outputs": [],
   "source": [
    "env = gym.make(\"CartPole-v1\")"
   ]
  },
  {
   "cell_type": "code",
   "execution_count": 3,
   "metadata": {},
   "outputs": [],
   "source": [
    "def getSmartAction(state):\n",
    "    \n",
    "    # initialize variables\n",
    "    position, velocity, angle, tipVelocity = state\n",
    "    pushLeft, pushRight = (0,1)\n",
    "    tooFast = 0.5 # threshold to know when to stop pushing in a direction\n",
    "    \n",
    "    # pole leaning to the right, push to the right unless it is moving too fast to the left already \n",
    "    if angle >= 0:\n",
    "        if tipVelocity < (-1*tooFast):\n",
    "            return pushLeft\n",
    "        return pushRight\n",
    "    \n",
    "    # pole leaning to the left, push to the left unless it is moving too fast to the right already\n",
    "    if angle < 0:\n",
    "        if tipVelocity > tooFast:\n",
    "            return pushRight\n",
    "        return pushLeft\n",
    "    "
   ]
  },
  {
   "cell_type": "code",
   "execution_count": 4,
   "metadata": {},
   "outputs": [],
   "source": [
    "episodes = 1000\n",
    "steps = 200\n",
    "state = None\n",
    "\n",
    "reward_list = []\n",
    "for episode in range(1, episodes + 1):\n",
    "    env.reset()\n",
    "    total_reward = 0\n",
    "    for step in range(1, steps + 1):\n",
    "        if state is None:\n",
    "            action = env.action_space.sample()\n",
    "        else:\n",
    "            action = getSmartAction(state)\n",
    "        next_state, reward, done, _ = env.step(action)\n",
    "        total_reward += reward\n",
    "        if done: break\n",
    "        state = next_state\n",
    "    reward_list.append(total_reward)"
   ]
  },
  {
   "cell_type": "markdown",
   "metadata": {},
   "source": [
    "The best episode, average episode, worst episod is"
   ]
  },
  {
   "cell_type": "code",
   "execution_count": 5,
   "metadata": {},
   "outputs": [
    {
     "data": {
      "text/plain": [
       "(200.0, 200.0, 200.0)"
      ]
     },
     "execution_count": 5,
     "metadata": {},
     "output_type": "execute_result"
    }
   ],
   "source": [
    "print(np.max(reward_list), np.average(reward_list), np.min(reward_list))"
   ]
  }
 ],
 "metadata": {
  "kernelspec": {
   "display_name": "Python 3",
   "language": "python",
   "name": "python3"
  },
  "language_info": {
   "codemirror_mode": {
    "name": "ipython",
    "version": 3
   },
   "file_extension": ".py",
   "mimetype": "text/x-python",
   "name": "python",
   "nbconvert_exporter": "python",
   "pygments_lexer": "ipython3",
   "version": "3.6.5"
  }
 },
 "nbformat": 4,
 "nbformat_minor": 2
}
